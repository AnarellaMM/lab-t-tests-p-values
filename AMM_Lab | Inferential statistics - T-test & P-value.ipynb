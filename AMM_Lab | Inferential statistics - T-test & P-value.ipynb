{
 "cells": [
  {
   "cell_type": "markdown",
   "id": "62e16589-7383-46f3-8b0b-5127fdcacb18",
   "metadata": {},
   "source": [
    "Understanding the Situation:\n",
    "A company wants to know if a new machine is faster at packing jars into boxes than the old machine. They recorded how much time it takes for each machine to pack 10 boxes. They want to see if the new machine is really quicker or not.\n",
    "\n",
    "They have two guesses:\n",
    "\n",
    "Guess 1 (Null Hypothesis): Maybe the new machine is not really faster, and the time it takes is about the same as the old machine.\n",
    "Guess 2 (Alternative Hypothesis): But maybe, just maybe, the new machine is actually faster, and it takes less time.\n",
    "\n",
    "Calculating:\n",
    "\n",
    "They look at how much time each machine took and find some numbers:\n",
    "\n",
    "For the old machine, the average time is about 35.3 seconds.\n",
    "For the new machine, the average time is about 32.9 seconds."
   ]
  },
  {
   "cell_type": "code",
   "execution_count": 5,
   "id": "e40da20b-83e5-4837-a34e-3caafdc29bb6",
   "metadata": {},
   "outputs": [],
   "source": [
    "import pandas as pd\n",
    "from scipy.stats import t"
   ]
  },
  {
   "cell_type": "code",
   "execution_count": 17,
   "id": "0e3544af-31a1-4aee-ac8c-6190e2e7d916",
   "metadata": {},
   "outputs": [],
   "source": [
    "data = pd.read_csv('machine.txt', sep='\\t', encoding='utf-16')"
   ]
  },
  {
   "cell_type": "code",
   "execution_count": 18,
   "id": "6ebbf554-52e3-4e9e-abf9-ee5650565595",
   "metadata": {},
   "outputs": [
    {
     "name": "stdout",
     "output_type": "stream",
     "text": [
      "   New machine      Old machine\n",
      "0         42.1             42.7\n",
      "1         41.0             43.6\n",
      "2         41.3             43.8\n",
      "3         41.8             43.3\n",
      "4         42.4             42.5\n"
     ]
    }
   ],
   "source": [
    "print(data.head())"
   ]
  },
  {
   "cell_type": "code",
   "execution_count": 21,
   "id": "19e8ba02-1c20-411d-910b-cdd1d715f7d6",
   "metadata": {},
   "outputs": [
    {
     "name": "stdout",
     "output_type": "stream",
     "text": [
      "Index(['New machine', '    Old machine'], dtype='object')\n"
     ]
    }
   ],
   "source": [
    "print(data.columns)"
   ]
  },
  {
   "cell_type": "code",
   "execution_count": 25,
   "id": "3bf6e7b3-2399-48e6-ba71-9be49dd244a9",
   "metadata": {},
   "outputs": [
    {
     "name": "stdout",
     "output_type": "stream",
     "text": [
      "Mean of    Old machine: 43.230000000000004\n",
      "Mean of New Machine: 42.14\n",
      "Standard Deviation of    Old machine: 0.7498888806572157\n",
      "Standard Deviation of New Machine: 0.6834552736727638\n"
     ]
    }
   ],
   "source": [
    "# Calculate means and standard deviations\n",
    "mean_old = data['    Old machine'].mean()\n",
    "mean_new = data['New machine'].mean()\n",
    "std_old = data['    Old machine'].std()\n",
    "std_new = data['New machine'].std()\n",
    "\n",
    "print(\"Mean of    Old machine:\", mean_old)\n",
    "print(\"Mean of New Machine:\", mean_new)\n",
    "print(\"Standard Deviation of    Old machine:\", std_old)\n",
    "print(\"Standard Deviation of New Machine:\", std_new)"
   ]
  },
  {
   "cell_type": "markdown",
   "id": "cb2362d1-aee1-4742-afe2-8abef35355d0",
   "metadata": {},
   "source": [
    "Time to Pack:\n",
    "\n",
    "On average, the old machine takes around 43.23 seconds to pack, while the new machine takes about 42.14 seconds.\n",
    "Consistency:\n",
    "\n",
    "The times for both machines vary around their averages.\n",
    "For the old machine, the times are about 0.75 seconds away from its average.\n",
    "For the new machine, the times are about 0.68 seconds away from its average.\n",
    "So, the new machine is a bit faster on average and has more consistent packing times compared to the old machine."
   ]
  },
  {
   "cell_type": "code",
   "execution_count": 24,
   "id": "e3b72e85-e8b3-4848-87b2-7586b7b94d30",
   "metadata": {},
   "outputs": [
    {
     "name": "stdout",
     "output_type": "stream",
     "text": [
      "Pooled Standard Deviation: 0.7174414416676962\n"
     ]
    }
   ],
   "source": [
    "# Calculate pooled standard deviation\n",
    "n1 = n2 = 10  # Both samples have 10 observations\n",
    "pooled_std = ((n1 - 1) * std_old**2 + (n2 - 1) * std_new**2) / (n1 + n2 - 2)\n",
    "pooled_std = pooled_std**0.5\n",
    "print(\"Pooled Standard Deviation:\", pooled_std)"
   ]
  },
  {
   "cell_type": "markdown",
   "id": "5e298e94-5f38-4ecb-9249-801c8ec2e18c",
   "metadata": {},
   "source": [
    "Pooled Standard Deviation:\n",
    "\n",
    "Think of the pooled standard deviation as a measure of how much the packing times for both machines are spread out from their averages.\n",
    "The value of 0.72 (approximately) is like an average amount that tells us how the packing times tend to vary around their respective averages.\n",
    "In simpler words, the pooled standard deviation gives us an idea of how consistent the packing times are for both machines. A smaller value means the times are closer to the average, and a larger value means they are more spread out. In this case, the value suggests that the packing times for both machines are fairly consistent around their average times."
   ]
  },
  {
   "cell_type": "code",
   "execution_count": 26,
   "id": "54c74836-a759-4a79-a191-c88f1bec21ee",
   "metadata": {},
   "outputs": [
    {
     "name": "stdout",
     "output_type": "stream",
     "text": [
      "Calculated t-test statistic: 3.3972307061176026\n"
     ]
    }
   ],
   "source": [
    "# Calculate t-test statistic\n",
    "t_statistic = (mean_old - mean_new) / (pooled_std * (2 / n1)**0.5)\n",
    "print(\"Calculated t-test statistic:\", t_statistic)"
   ]
  },
  {
   "cell_type": "markdown",
   "id": "ea659b6f-1ce8-4f1e-a49d-9c6d5a5c56f4",
   "metadata": {},
   "source": [
    "Calculated t-test Statistic:\n",
    "\n",
    "This number, 3.40 (approximately), is like a special value we calculated to see if the new machine is really faster than the old machine.\n",
    "It's based on the differences in the average packing times and how much the times vary within each group.\n",
    "Think of it like a score. If the score is bigger, it means the new machine is more noticeably faster compared to the old machine. This score helps us figure out if the difference we see in packing times is just due to chance or if it's actually a meaningful difference. In this case, a higher t-test statistic suggests that there might be a real difference between the two machines' packing times."
   ]
  },
  {
   "cell_type": "code",
   "execution_count": 27,
   "id": "1c3df9f9-b6de-4d11-89f0-6afbb9b418c5",
   "metadata": {},
   "outputs": [
    {
     "name": "stdout",
     "output_type": "stream",
     "text": [
      "Degrees of Freedom: 18\n"
     ]
    }
   ],
   "source": [
    "# Degrees of freedom for t-distribution\n",
    "degrees_of_freedom = n1 + n2 - 2\n",
    "print(\"Degrees of Freedom:\", degrees_of_freedom)"
   ]
  },
  {
   "cell_type": "markdown",
   "id": "d3d3c6d7-25a2-4279-913d-53f7bc20f843",
   "metadata": {},
   "source": [
    "Degrees of Freedom:\n",
    "\n",
    "Imagine you're solving a puzzle, and the pieces you have are like bits of information.\n",
    "The \"Degrees of Freedom\" here, which is 18, tells us how many pieces of information we really have when we're comparing the two machines' packing times.\n",
    "In simple words, it's like saying, \"Okay, we have enough bits of information to make a fair comparison between the old and new machines.\" It helps us use the right tools to decide if one machine is really better than the other."
   ]
  },
  {
   "cell_type": "code",
   "execution_count": 28,
   "id": "b1b26f91-37e4-4150-9afc-59fbd0728286",
   "metadata": {},
   "outputs": [
    {
     "name": "stdout",
     "output_type": "stream",
     "text": [
      "Calculated critical value: -1.734063606617536\n"
     ]
    }
   ],
   "source": [
    "# Calculate critical value from t-distribution for a one-sided test at 0.05 significance level\n",
    "critical_value = t.ppf(0.05, df=degrees_of_freedom)\n",
    "print(\"Calculated critical value:\", critical_value)"
   ]
  },
  {
   "cell_type": "markdown",
   "id": "71e37695-00c9-44ec-99ff-0b790b0401a4",
   "metadata": {},
   "source": [
    "Calculated Critical Value:\n",
    "\n",
    "Think of this number, -1.73 (approximately), as a special number that helps us make a decision.\n",
    "Imagine you're at a crossroads and this number tells you which path to take.\n",
    "\n",
    "In simpler terms, if the calculated critical value is bigger than the t-test statistic (which we calculated earlier), it's like saying, \"Okay, it's safe to take the new path. The new machine is likely faster.\" But if it's smaller, it might mean, \"Stick to the old path. The machines might not be that different.\" It's a way of helping us decide if the difference in packing times between the old and new machines is something we can trust or if it might just be a random thing."
   ]
  },
  {
   "cell_type": "code",
   "execution_count": 29,
   "id": "8621d9ee-5102-4a4b-8005-8168c3e730c8",
   "metadata": {},
   "outputs": [
    {
     "name": "stdout",
     "output_type": "stream",
     "text": [
      "No, there's not enough evidence that the new machine is faster.\n"
     ]
    }
   ],
   "source": [
    "# Compare t-statistic with critical value\n",
    "if t_statistic < critical_value:\n",
    "    result = \"Yes, the new machine is faster.\"\n",
    "else:\n",
    "    result = \"No, there's not enough evidence that the new machine is faster.\"\n",
    "\n",
    "print(result)"
   ]
  },
  {
   "cell_type": "markdown",
   "id": "b2ec65d2-52b0-42a5-9e08-b3d5d306e6b9",
   "metadata": {},
   "source": [
    "Overall Conclusion:\n",
    "\n",
    "After looking at all the numbers and calculations, we can say that there's not enough solid evidence to confidently say that the new machine is definitely faster than the old machine.\n",
    "\n",
    "Why?\n",
    "\n",
    "We calculated things like average packing times and how much the times vary.\n",
    "We found a special number (the t-test statistic) that helps us decide if the new machine is truly quicker.\n",
    "Then, we compared it with another special number (the critical value).\n",
    "\n",
    "The Decision:\n",
    "\n",
    "In our case, the t-test statistic we got (3.40) is quite a bit bigger than the critical value (-1.73).\n",
    "This means that while the new machine looks faster, the difference might not be big enough to be super sure.\n",
    "It's like saying, \"Hey, the new machine seems faster, but the difference might not be strong evidence.\"\n",
    "So, based on what we've figured out, we can't say with a lot of confidence that the new machine is clearly faster. It's a bit like looking at clues but not having the whole picture."
   ]
  },
  {
   "cell_type": "code",
   "execution_count": null,
   "id": "5ec40d0b-c036-412e-b000-eeff6abc8951",
   "metadata": {},
   "outputs": [],
   "source": []
  }
 ],
 "metadata": {
  "kernelspec": {
   "display_name": "Python 3 (ipykernel)",
   "language": "python",
   "name": "python3"
  },
  "language_info": {
   "codemirror_mode": {
    "name": "ipython",
    "version": 3
   },
   "file_extension": ".py",
   "mimetype": "text/x-python",
   "name": "python",
   "nbconvert_exporter": "python",
   "pygments_lexer": "ipython3",
   "version": "3.10.9"
  }
 },
 "nbformat": 4,
 "nbformat_minor": 5
}
