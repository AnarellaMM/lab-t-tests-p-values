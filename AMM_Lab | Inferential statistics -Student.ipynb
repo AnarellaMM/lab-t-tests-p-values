{
 "cells": [
  {
   "cell_type": "markdown",
   "id": "ef0746ae-b3cd-4ad7-8caf-7919fbbfe5d1",
   "metadata": {},
   "source": [
    "Introduction: Comparing Grades of Sophomores and Juniors\n",
    "\n",
    "Imagine a big university where students study hard. We're curious to find out if there's a real difference in the average grades of sophomores (second-year students) and juniors (third-year students). Are juniors really doing better? To solve this puzzle, we collected information from 17 sophomores and 13 juniors about their grades. We're going to use some special math to figure out if the differences we see in grades are big enough to mean something important, or if they could just be random chance. Let's find out if there's enough proof to say that sophomores and juniors have different grades."
   ]
  },
  {
   "cell_type": "code",
   "execution_count": 1,
   "id": "095f85ae-7c24-4880-a7cf-ea60d712ae9f",
   "metadata": {},
   "outputs": [],
   "source": [
    "import pandas as pd\n",
    "from scipy.stats import t"
   ]
  },
  {
   "cell_type": "code",
   "execution_count": 4,
   "id": "097f2153-1109-4fa6-968f-766314196d92",
   "metadata": {},
   "outputs": [
    {
     "data": {
      "text/html": [
       "<div>\n",
       "<style scoped>\n",
       "    .dataframe tbody tr th:only-of-type {\n",
       "        vertical-align: middle;\n",
       "    }\n",
       "\n",
       "    .dataframe tbody tr th {\n",
       "        vertical-align: top;\n",
       "    }\n",
       "\n",
       "    .dataframe thead th {\n",
       "        text-align: right;\n",
       "    }\n",
       "</style>\n",
       "<table border=\"1\" class=\"dataframe\">\n",
       "  <thead>\n",
       "    <tr style=\"text-align: right;\">\n",
       "      <th></th>\n",
       "      <th>Sophomores</th>\n",
       "      <th>Juniors</th>\n",
       "    </tr>\n",
       "  </thead>\n",
       "  <tbody>\n",
       "    <tr>\n",
       "      <th>0</th>\n",
       "      <td>3.04</td>\n",
       "      <td>2.56</td>\n",
       "    </tr>\n",
       "    <tr>\n",
       "      <th>1</th>\n",
       "      <td>1.71</td>\n",
       "      <td>2.77</td>\n",
       "    </tr>\n",
       "    <tr>\n",
       "      <th>2</th>\n",
       "      <td>3.30</td>\n",
       "      <td>2.70</td>\n",
       "    </tr>\n",
       "    <tr>\n",
       "      <th>3</th>\n",
       "      <td>2.88</td>\n",
       "      <td>3.00</td>\n",
       "    </tr>\n",
       "    <tr>\n",
       "      <th>4</th>\n",
       "      <td>2.11</td>\n",
       "      <td>2.98</td>\n",
       "    </tr>\n",
       "  </tbody>\n",
       "</table>\n",
       "</div>"
      ],
      "text/plain": [
       "   Sophomores    Juniors\n",
       "0        3.04       2.56\n",
       "1        1.71       2.77\n",
       "2        3.30       2.70\n",
       "3        2.88       3.00\n",
       "4        2.11       2.98"
      ]
     },
     "execution_count": 4,
     "metadata": {},
     "output_type": "execute_result"
    }
   ],
   "source": [
    "data = pd.read_csv('student_gpa.txt', sep='\\t')\n",
    "data.head()"
   ]
  },
  {
   "cell_type": "markdown",
   "id": "828b797c-bf68-4a9c-ba40-0be25a7ed3bd",
   "metadata": {},
   "source": [
    "Set Up Hypotheses"
   ]
  },
  {
   "cell_type": "code",
   "execution_count": 5,
   "id": "e18f16f7-fb15-440b-a04b-c07459d8c90f",
   "metadata": {},
   "outputs": [
    {
     "name": "stdout",
     "output_type": "stream",
     "text": [
      "Null Hypothesis: The mean GPAs of sophomores and juniors are the same (μ₁ = μ₂)\n",
      "Alternative Hypothesis: The mean GPAs of sophomores and juniors are different (μ₁ ≠ μ₂)\n"
     ]
    }
   ],
   "source": [
    "# Null Hypothesis (H₀): The mean GPAs of sophomores and juniors are the same\n",
    "null_hypothesis = \"The mean GPAs of sophomores and juniors are the same (μ₁ = μ₂)\"\n",
    "\n",
    "# Alternative Hypothesis (H₁): The mean GPAs of sophomores and juniors are different\n",
    "alternative_hypothesis = \"The mean GPAs of sophomores and juniors are different (μ₁ ≠ μ₂)\"\n",
    "\n",
    "print(\"Null Hypothesis:\", null_hypothesis)\n",
    "print(\"Alternative Hypothesis:\", alternative_hypothesis)"
   ]
  },
  {
   "cell_type": "markdown",
   "id": "bd61d8a2-b912-4bc9-b08d-be73df17143f",
   "metadata": {},
   "source": [
    "Null Hypothesis:\n",
    "\n",
    "We're starting with a guess that sophomores and juniors have the same average grades.\n",
    "It's like saying, \"Maybe there's no real difference in how well they're doing.\"\n",
    "\n",
    "\n",
    "Alternative Hypothesis:\n",
    "\n",
    "But we're also curious and guessing that maybe their grades are not the same.\n",
    "It's like saying, \"Hmm, maybe one group is doing better than the other.\"\n",
    "So, we're using math to figure out if there's enough proof to say if the grades are really different or if it's just random chance. It's like being a detective with numbers, trying to find clues about students' grades."
   ]
  },
  {
   "cell_type": "code",
   "execution_count": 8,
   "id": "afc746fd-b5fc-4a76-8820-e50755cc3afa",
   "metadata": {},
   "outputs": [
    {
     "name": "stdout",
     "output_type": "stream",
     "text": [
      "Index(['Sophomores', '  Juniors'], dtype='object')\n"
     ]
    }
   ],
   "source": [
    "print(data.columns)"
   ]
  },
  {
   "cell_type": "markdown",
   "id": "90d6fcb3-d185-4117-bff4-fff1d165da7c",
   "metadata": {},
   "source": [
    "Calculate Test Statistic"
   ]
  },
  {
   "cell_type": "code",
   "execution_count": 9,
   "id": "60acfbf5-9b2a-4b47-812e-a7be04a4d185",
   "metadata": {},
   "outputs": [
    {
     "name": "stdout",
     "output_type": "stream",
     "text": [
      "Calculated t-statistic: -0.9231495630900276\n"
     ]
    }
   ],
   "source": [
    "n1 = 17\n",
    "n2 = 13\n",
    "\n",
    "mean_diff = data['Sophomores'].mean() - data['  Juniors'].mean()\n",
    "std_dev1 = data['Sophomores'].std()\n",
    "std_dev2 = data['  Juniors'].std()\n",
    "\n",
    "degrees_of_freedom = (n1 - 1) + (n2 - 1)\n",
    "\n",
    "t_statistic = mean_diff / ((std_dev1**2 / n1 + std_dev2**2 / n2)**0.5)\n",
    "\n",
    "print(\"Calculated t-statistic:\", t_statistic)"
   ]
  },
  {
   "cell_type": "markdown",
   "id": "aa2a5df1-10c8-4296-8be6-b8a44e83c5f9",
   "metadata": {},
   "source": [
    "Calculated t-statistic: -0.92\n",
    "\n",
    "This number as a sort of \"comparison score\" between two groups of students, the sophomores and juniors.\n",
    "\n",
    "If this score is really big (let's say +5), it's like one group is clearly better in something. But when the score is small, like -0.92, it's not a big difference. It's kind of like saying, \"Hmm, the two groups seem quite similar in whatever we're looking at.\"\n",
    "\n",
    "So, in our case, this number suggests that the difference in grades might not be very significant. It's like saying, \"Well, the grades of the two groups are not that different.\""
   ]
  },
  {
   "cell_type": "markdown",
   "id": "507f5529-8ef2-4019-bea3-1a9a02b5d588",
   "metadata": {},
   "source": [
    "Calculate Critical Value"
   ]
  },
  {
   "cell_type": "code",
   "execution_count": 10,
   "id": "872b3241-9d75-4a47-b449-7ac23b2c60b4",
   "metadata": {},
   "outputs": [
    {
     "name": "stdout",
     "output_type": "stream",
     "text": [
      "Calculated critical value: -2.048407141795244\n"
     ]
    }
   ],
   "source": [
    "alpha = 0.05  # Significance level\n",
    "\n",
    "critical_value = t.ppf(alpha/2, df=degrees_of_freedom)\n",
    "\n",
    "print(\"Calculated critical value:\", critical_value)"
   ]
  },
  {
   "cell_type": "markdown",
   "id": "2ab3d2ad-311c-4b77-90ff-19aee443420d",
   "metadata": {},
   "source": [
    "Calculated critical value: -2.05\n",
    "\n",
    "This number as a sort of \"special line\" we draw on our measurement scale. This line helps making a decision about our comparison between sophomores and juniors.\n",
    "\n",
    "If our \"comparison score\" (which we calculated earlier) is beyond this line, it's like a detective's clue saying, \"Hey, there's something really interesting happening here!\" But if our score isn't beyond this line, it's like the detective saying, \"Well, it might not be as exciting as we thought.\"\n",
    "\n",
    "In our case, since our \"comparison score\" isn't very far from -2.05, it suggests that the difference in grades between sophomores and juniors might not be super important. It's like saying, \"Hmm, the grades don't seem to show a big difference between the two groups.\""
   ]
  },
  {
   "cell_type": "markdown",
   "id": "62e5a6f3-3dd7-419a-b9ff-abf83464b3bc",
   "metadata": {},
   "source": [
    "Compare Test Statistic and Critical Value"
   ]
  },
  {
   "cell_type": "code",
   "execution_count": 11,
   "id": "c9bb7647-b750-40ff-b91a-c61302f21c31",
   "metadata": {},
   "outputs": [
    {
     "data": {
      "text/plain": [
       "\"Reject the null hypothesis. There's enough evidence that the mean GPAs differ.\""
      ]
     },
     "execution_count": 11,
     "metadata": {},
     "output_type": "execute_result"
    }
   ],
   "source": [
    "if t_statistic < -critical_value or t_statistic > critical_value:\n",
    "    conclusion = \"Reject the null hypothesis. There's enough evidence that the mean GPAs differ.\"\n",
    "else:\n",
    "    conclusion = \"Fail to reject the null hypothesis. There's not enough evidence of a difference in mean GPAs.\"\n",
    "\n",
    "conclusion"
   ]
  },
  {
   "cell_type": "markdown",
   "id": "d3e1f8f2-e7c5-4856-9790-cab55327d2d8",
   "metadata": {},
   "source": [
    "Final Verdict: \"Reject the Null Hypothesis\"\n",
    "\n",
    "We've been checking whether the grades of sophomores and juniors are really different. We've done a some calculations to figure this out.\n",
    "\n",
    "Here's what we found:\n",
    "\n",
    "First, we started by guessing that maybe their grades are the same. But then we thought, \"Hmm, maybe they're different.\"\n",
    "\n",
    "We used math to compare their grades and see if the differences are likely to be true or just random.\n",
    "Now, after looking at all the numbers, we've come to a decision. We're saying, \"You know what? The grades of sophomores and juniors might actually be different!\"\n",
    "\n",
    "It's like being a detective and saying, \"Yes, there's enough proof to say that one group's grades are not the same as the other group's grades.\" This means we've found something interesting and the differences in grades might be meaningful.\n",
    "\n",
    "We can't be 100% sure. There's always a small chance that the conclusion could be a bit wrong. But based on what I've seen, it's like saying, \"Hey, there's a good chance these two groups have different grades.\""
   ]
  },
  {
   "cell_type": "code",
   "execution_count": null,
   "id": "1c36441f-a470-4ec0-97d3-186b96501b16",
   "metadata": {},
   "outputs": [],
   "source": []
  }
 ],
 "metadata": {
  "kernelspec": {
   "display_name": "Python 3 (ipykernel)",
   "language": "python",
   "name": "python3"
  },
  "language_info": {
   "codemirror_mode": {
    "name": "ipython",
    "version": 3
   },
   "file_extension": ".py",
   "mimetype": "text/x-python",
   "name": "python",
   "nbconvert_exporter": "python",
   "pygments_lexer": "ipython3",
   "version": "3.10.9"
  }
 },
 "nbformat": 4,
 "nbformat_minor": 5
}
